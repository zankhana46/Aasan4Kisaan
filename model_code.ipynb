{
 "cells": [
  {
   "cell_type": "code",
   "execution_count": 1,
   "id": "5ae27893",
   "metadata": {
    "_cell_guid": "b1076dfc-b9ad-4769-8c92-a6c4dae69d19",
    "_uuid": "8f2839f25d086af736a60e9eeb907d3b93b6e0e5",
    "execution": {
     "iopub.execute_input": "2023-03-10T12:32:04.476838Z",
     "iopub.status.busy": "2023-03-10T12:32:04.475144Z",
     "iopub.status.idle": "2023-03-10T12:32:13.838165Z",
     "shell.execute_reply": "2023-03-10T12:32:13.836613Z"
    },
    "papermill": {
     "duration": 9.374282,
     "end_time": "2023-03-10T12:32:13.841451",
     "exception": false,
     "start_time": "2023-03-10T12:32:04.467169",
     "status": "completed"
    },
    "tags": []
   },
   "outputs": [],
   "source": [
    "import tensorflow as tf\n",
    "from tensorflow.keras.models import Sequential\n",
    "from tensorflow.keras.layers import Dense, Conv2D, MaxPooling2D, Flatten, Dropout\n",
    "from tensorflow.keras.preprocessing.image import ImageDataGenerator\n"
   ]
  },
  {
   "cell_type": "code",
   "execution_count": 2,
   "id": "afc0917f",
   "metadata": {
    "execution": {
     "iopub.execute_input": "2023-03-10T12:32:13.851973Z",
     "iopub.status.busy": "2023-03-10T12:32:13.851136Z",
     "iopub.status.idle": "2023-03-10T12:32:13.858512Z",
     "shell.execute_reply": "2023-03-10T12:32:13.856868Z"
    },
    "papermill": {
     "duration": 0.015475,
     "end_time": "2023-03-10T12:32:13.861250",
     "exception": false,
     "start_time": "2023-03-10T12:32:13.845775",
     "status": "completed"
    },
    "tags": []
   },
   "outputs": [],
   "source": [
    "train_datagen = ImageDataGenerator(rescale=1./255,\n",
    "                                   shear_range=0.2,\n",
    "                                   zoom_range=0.2,\n",
    "                                   horizontal_flip=True)\n",
    "\n",
    "val_datagen = ImageDataGenerator(rescale=1./255)\n"
   ]
  },
  {
   "cell_type": "code",
   "execution_count": 3,
   "id": "38847f23",
   "metadata": {
    "execution": {
     "iopub.execute_input": "2023-03-10T12:32:13.871426Z",
     "iopub.status.busy": "2023-03-10T12:32:13.870932Z",
     "iopub.status.idle": "2023-03-10T12:32:13.876512Z",
     "shell.execute_reply": "2023-03-10T12:32:13.875192Z"
    },
    "papermill": {
     "duration": 0.014314,
     "end_time": "2023-03-10T12:32:13.879463",
     "exception": false,
     "start_time": "2023-03-10T12:32:13.865149",
     "status": "completed"
    },
    "tags": []
   },
   "outputs": [],
   "source": [
    "train_dir = '/kaggle/input/new-plant-diseases-dataset/New Plant Diseases Dataset(Augmented)/New Plant Diseases Dataset(Augmented)/train'\n",
    "val_dir = '/kaggle/input/new-plant-diseases-dataset/New Plant Diseases Dataset(Augmented)/New Plant Diseases Dataset(Augmented)/valid'\n"
   ]
  },
  {
   "cell_type": "code",
   "execution_count": 4,
   "id": "071f52ec",
   "metadata": {
    "execution": {
     "iopub.execute_input": "2023-03-10T12:32:13.890081Z",
     "iopub.status.busy": "2023-03-10T12:32:13.889305Z",
     "iopub.status.idle": "2023-03-10T12:32:54.585520Z",
     "shell.execute_reply": "2023-03-10T12:32:54.584165Z"
    },
    "papermill": {
     "duration": 40.705133,
     "end_time": "2023-03-10T12:32:54.588877",
     "exception": false,
     "start_time": "2023-03-10T12:32:13.883744",
     "status": "completed"
    },
    "tags": []
   },
   "outputs": [
    {
     "name": "stdout",
     "output_type": "stream",
     "text": [
      "Found 70295 images belonging to 38 classes.\n",
      "Found 17572 images belonging to 38 classes.\n"
     ]
    }
   ],
   "source": [
    "train_set = train_datagen.flow_from_directory(train_dir,\n",
    "                                              target_size=(128, 128),\n",
    "                                              batch_size=32,\n",
    "                                              class_mode='binary')\n",
    "\n",
    "val_set = val_datagen.flow_from_directory(val_dir,\n",
    "                                          target_size=(128, 128),\n",
    "                                          batch_size=32,\n",
    "                                          class_mode='binary')\n"
   ]
  },
  {
   "cell_type": "code",
   "execution_count": 5,
   "id": "d0014f80",
   "metadata": {
    "execution": {
     "iopub.execute_input": "2023-03-10T12:32:54.599288Z",
     "iopub.status.busy": "2023-03-10T12:32:54.598203Z",
     "iopub.status.idle": "2023-03-10T12:32:54.929840Z",
     "shell.execute_reply": "2023-03-10T12:32:54.928599Z"
    },
    "papermill": {
     "duration": 0.339738,
     "end_time": "2023-03-10T12:32:54.932564",
     "exception": false,
     "start_time": "2023-03-10T12:32:54.592826",
     "status": "completed"
    },
    "tags": []
   },
   "outputs": [],
   "source": [
    "model = Sequential()\n",
    "\n",
    "model.add(Conv2D(32, (3, 3), activation='relu', input_shape=(128, 128, 3)))\n",
    "model.add(MaxPooling2D((2, 2)))\n",
    "model.add(Dropout(0.2))\n",
    "\n",
    "model.add(Conv2D(64, (3, 3), activation='relu'))\n",
    "model.add(MaxPooling2D((2, 2)))\n",
    "model.add(Dropout(0.2))\n",
    "\n",
    "model.add(Conv2D(128, (3, 3), activation='relu'))\n",
    "model.add(MaxPooling2D((2, 2)))\n",
    "model.add(Dropout(0.2))\n",
    "\n",
    "model.add(Flatten())\n",
    "\n",
    "model.add(Dense(128, activation='relu'))\n",
    "model.add(Dropout(0.5))\n",
    "\n",
    "model.add(Dense(1, activation='sigmoid'))\n"
   ]
  },
  {
   "cell_type": "code",
   "execution_count": 6,
   "id": "b5f71cd7",
   "metadata": {
    "execution": {
     "iopub.execute_input": "2023-03-10T12:32:54.942906Z",
     "iopub.status.busy": "2023-03-10T12:32:54.942506Z",
     "iopub.status.idle": "2023-03-10T12:33:14.807367Z",
     "shell.execute_reply": "2023-03-10T12:33:14.805553Z"
    },
    "papermill": {
     "duration": 19.873858,
     "end_time": "2023-03-10T12:33:14.810544",
     "exception": false,
     "start_time": "2023-03-10T12:32:54.936686",
     "status": "completed"
    },
    "tags": []
   },
   "outputs": [
    {
     "name": "stdout",
     "output_type": "stream",
     "text": [
      "(3, 128) <dtype: 'float32'>\n"
     ]
    }
   ],
   "source": [
    "import tensorflow as tf\n",
    "import tensorflow_hub as hub\n",
    "import tensorflow as tf\n",
    "from tensorflow.keras.models import Sequential\n",
    "from tensorflow.keras.layers import Dense, Conv2D, MaxPooling2D, Flatten, Dropout\n",
    "from tensorflow.keras.preprocessing.image import ImageDataGenerator\n",
    "from tensorflow.keras.utils import load_img\n",
    "from tensorflow.keras.utils import img_to_array\n",
    "import numpy as np\n",
    "import matplotlib.pyplot as plt\n",
    "import os\n",
    "from tensorflow import keras\n",
    "from keras.datasets import mnist\n",
    "from keras.models import Sequential\n",
    "from keras.layers import Conv2D\n",
    "from keras.layers import MaxPool2D\n",
    "from keras.layers import Flatten\n",
    "from keras.layers import Dropout\n",
    "from keras.layers import Dense\n",
    "from sklearn.model_selection import train_test_split\n",
    "from sklearn.preprocessing import LabelEncoder\n",
    "import cv2 as cv\n",
    "# from keras.preprocessing.image import load_img\n",
    "\n",
    "\n",
    "hub_url = \"https://tfhub.dev/google/nnlm-en-dim128/2\"\n",
    "embed = hub.KerasLayer(hub_url)\n",
    "embeddings = embed([\"A long sentence.\", \"single-word\", \"http://example.com\"])\n",
    "print(embeddings.shape, embeddings.dtype)"
   ]
  },
  {
   "cell_type": "code",
   "execution_count": 7,
   "id": "4de79e38",
   "metadata": {
    "execution": {
     "iopub.execute_input": "2023-03-10T12:33:14.820775Z",
     "iopub.status.busy": "2023-03-10T12:33:14.820332Z",
     "iopub.status.idle": "2023-03-10T12:33:14.828072Z",
     "shell.execute_reply": "2023-03-10T12:33:14.826712Z"
    },
    "papermill": {
     "duration": 0.016015,
     "end_time": "2023-03-10T12:33:14.830810",
     "exception": false,
     "start_time": "2023-03-10T12:33:14.814795",
     "status": "completed"
    },
    "tags": []
   },
   "outputs": [],
   "source": [
    "def predict_disease(image_path):\n",
    "    # load the image\n",
    "    img = load_img(image_path, target_size=(128, 128))\n",
    "    # convert to numpy array\n",
    "    img_array = img_to_array(img)\n",
    "    # scale the pixel values to between 0 and 1\n",
    "    img_array /= 255.0\n",
    "    # add a dimension for the batch size\n",
    "    img_array = np.expand_dims(img_array, axis=0)\n",
    "    # make the prediction\n",
    "    prediction = model.predict(img_array)\n",
    "    # convert the prediction to a disease name\n",
    "    if prediction < 0.5:\n",
    "        disease = \"healthy\"\n",
    "    else:\n",
    "        disease = \"unhealthy\"\n",
    "    return disease"
   ]
  },
  {
   "cell_type": "code",
   "execution_count": 8,
   "id": "37e7b1dd",
   "metadata": {
    "execution": {
     "iopub.execute_input": "2023-03-10T12:33:14.841621Z",
     "iopub.status.busy": "2023-03-10T12:33:14.840343Z",
     "iopub.status.idle": "2023-03-10T12:33:19.616265Z",
     "shell.execute_reply": "2023-03-10T12:33:19.615048Z"
    },
    "papermill": {
     "duration": 4.784554,
     "end_time": "2023-03-10T12:33:19.619356",
     "exception": false,
     "start_time": "2023-03-10T12:33:14.834802",
     "status": "completed"
    },
    "tags": []
   },
   "outputs": [],
   "source": [
    "import tensorflow as tf\n",
    "import tensorflow_hub as hub\n",
    "from PIL import Image\n",
    "\n",
    "# Load the model\n",
    "model = hub.load(\"https://kaggle.com/models/rishitdagli/plant-disease/frameworks/TensorFlow2/variations/plant-disease/versions/1\")\n",
    "\n",
    "# Define a function to predict the disease\n",
    "def predict_disease(image_path):\n",
    "    # Load the image and preprocess it\n",
    "    img = Image.open(image_path)\n",
    "    img = img.resize((224, 224))\n",
    "    img = tf.keras.preprocessing.image.img_to_array(img)\n",
    "    img = tf.keras.applications.mobilenet_v2.preprocess_input(img)\n",
    "    img = tf.expand_dims(img, axis=0)\n",
    "    \n",
    "    # Make the prediction\n",
    "    prediction = model(img)\n",
    "    predicted_class = tf.argmax(prediction, axis=1)\n",
    "    \n",
    "    # Return the predicted disease\n",
    "    return predicted_class[0].numpy()\n"
   ]
  },
  {
   "cell_type": "code",
   "execution_count": 9,
   "id": "0d097c67",
   "metadata": {
    "execution": {
     "iopub.execute_input": "2023-03-10T12:33:19.629208Z",
     "iopub.status.busy": "2023-03-10T12:33:19.628615Z",
     "iopub.status.idle": "2023-03-10T12:33:20.168752Z",
     "shell.execute_reply": "2023-03-10T12:33:20.167690Z"
    },
    "papermill": {
     "duration": 0.548135,
     "end_time": "2023-03-10T12:33:20.171469",
     "exception": false,
     "start_time": "2023-03-10T12:33:19.623334",
     "status": "completed"
    },
    "tags": []
   },
   "outputs": [],
   "source": [
    "res = predict_disease('/kaggle/input/random-plant-leaves-images/download.jpg')"
   ]
  },
  {
   "cell_type": "code",
   "execution_count": 10,
   "id": "12cf8bb6",
   "metadata": {
    "execution": {
     "iopub.execute_input": "2023-03-10T12:33:20.182437Z",
     "iopub.status.busy": "2023-03-10T12:33:20.181211Z",
     "iopub.status.idle": "2023-03-10T12:33:20.190183Z",
     "shell.execute_reply": "2023-03-10T12:33:20.188875Z"
    },
    "papermill": {
     "duration": 0.01742,
     "end_time": "2023-03-10T12:33:20.193268",
     "exception": false,
     "start_time": "2023-03-10T12:33:20.175848",
     "status": "completed"
    },
    "tags": []
   },
   "outputs": [],
   "source": [
    "diseases = {\n",
    "    \"0\": \"Apple___Apple_scab\",\n",
    "    \"1\": \"Apple___Black_rot\",\n",
    "    \"2\": \"Apple___Cedar_apple_rust\",\n",
    "    \"3\": \"Apple___healthy\",\n",
    "    \"4\": \"Blueberry___healthy\",\n",
    "    \"5\": \"Cherry_(including_sour)___Powdery_mildew\",\n",
    "    \"6\": \"Cherry_(including_sour)___healthy\",\n",
    "    \"7\": \"Corn_(maize)___Cercospora_leaf_spot Gray_leaf_spot\",\n",
    "    \"8\": \"Corn_(maize)___Common_rust_\",\n",
    "    \"9\": \"Corn_(maize)___Northern_Leaf_Blight\",\n",
    "    \"10\": \"Corn_(maize)___healthy\",\n",
    "    \"11\": \"Grape___Black_rot\",\n",
    "    \"12\": \"Grape___Esca_(Black_Measles)\",\n",
    "    \"13\": \"Grape___Leaf_blight_(Isariopsis_Leaf_Spot)\",\n",
    "    \"14\": \"Grape___healthy\",\n",
    "    \"15\": \"Orange___Haunglongbing_(Citrus_greening)\",\n",
    "    \"16\": \"Peach___Bacterial_spot\",\n",
    "    \"17\": \"Peach___healthy\",\n",
    "    \"18\": \"Pepper_bell___Bacterial_spot\",\n",
    "    \"19\": \"Pepper_bell___healthy\",\n",
    "    \"20\": \"Potato___Early_blight\",\n",
    "    \"21\": \"Potato___Late_blight\",\n",
    "    \"22\": \"Potato___healthy\",\n",
    "    \"23\": \"Raspberry___healthy\",\n",
    "    \"24\": \"Soybean___healthy\",\n",
    "    \"25\": \"Squash___Powdery_mildew\",\n",
    "    \"26\": \"Strawberry___Leaf_scorch\",\n",
    "    \"27\": \"Strawberry___healthy\",\n",
    "    \"28\": \"Tomato___Bacterial_spot\",\n",
    "    \"29\": \"Tomato___Early_blight\",\n",
    "    \"30\": \"Tomato___Late_blight\",\n",
    "    \"31\": \"Tomato___Leaf_Mold\",\n",
    "    \"32\": \"Tomato___Septoria_leaf_spot\",\n",
    "    \"33\": \"Tomato___Spider_mites Two-spotted_spider_mite\",\n",
    "    \"34\": \"Tomato___Target_Spot\",\n",
    "    \"35\": \"Tomato___Tomato_Yellow_Leaf_Curl_Virus\",\n",
    "    \"36\": \"Tomato___Tomato_mosaic_virus\",\n",
    "    \"37\": \"Tomato___healthy\"\n",
    "}"
   ]
  },
  {
   "cell_type": "code",
   "execution_count": 11,
   "id": "66a9d5bc",
   "metadata": {
    "execution": {
     "iopub.execute_input": "2023-03-10T12:33:20.203219Z",
     "iopub.status.busy": "2023-03-10T12:33:20.202462Z",
     "iopub.status.idle": "2023-03-10T12:33:20.208976Z",
     "shell.execute_reply": "2023-03-10T12:33:20.207373Z"
    },
    "papermill": {
     "duration": 0.014379,
     "end_time": "2023-03-10T12:33:20.211641",
     "exception": false,
     "start_time": "2023-03-10T12:33:20.197262",
     "status": "completed"
    },
    "tags": []
   },
   "outputs": [
    {
     "name": "stdout",
     "output_type": "stream",
     "text": [
      "Tomato___Early_blight\n"
     ]
    }
   ],
   "source": [
    "print(diseases[str(res)])"
   ]
  }
 ],
 "metadata": {
  "kernelspec": {
   "display_name": "Python 3",
   "language": "python",
   "name": "python3"
  },
  "language_info": {
   "codemirror_mode": {
    "name": "ipython",
    "version": 3
   },
   "file_extension": ".py",
   "mimetype": "text/x-python",
   "name": "python",
   "nbconvert_exporter": "python",
   "pygments_lexer": "ipython3",
   "version": "3.7.12"
  },
  "papermill": {
   "default_parameters": {},
   "duration": 89.857122,
   "end_time": "2023-03-10T12:33:23.526233",
   "environment_variables": {},
   "exception": null,
   "input_path": "__notebook__.ipynb",
   "output_path": "__notebook__.ipynb",
   "parameters": {},
   "start_time": "2023-03-10T12:31:53.669111",
   "version": "2.4.0"
  }
 },
 "nbformat": 4,
 "nbformat_minor": 5
}
